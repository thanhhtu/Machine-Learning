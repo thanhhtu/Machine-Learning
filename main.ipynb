{
 "cells": [
  {
   "cell_type": "markdown",
   "metadata": {},
   "source": [
    "Linear regression with Gradient Descent"
   ]
  },
  {
   "cell_type": "code",
   "execution_count": null,
   "metadata": {},
   "outputs": [],
   "source": [
    "import numpy as np\n",
    "def compute_cost(w, x, y, b):\n",
    "    num = x.shape[0]\n",
    "    cost = 0\n",
    "    for i in range(num):\n",
    "        y_hat = w*x[i] + b\n",
    "        cost += y_hat - y[i]\n",
    "    return cost/2*num\n",
    "\n",
    "def compute_gradient(w, x, y, b):\n",
    "    num = x.shape[0]\n",
    "    dw = 0\n",
    "    db = 0\n",
    "    for i in range(num):\n",
    "        dw += x[i]*(w*x[i] + b - y[i])\n",
    "        db += w*x[i] + b - y[i]\n",
    "    return dw/num, db/num\n",
    "\n",
    "def train(w, x, y, b, alpha = 0.001):\n",
    "        for i in range(10000):\n",
    "            dw, db = compute_gradient(w, x, y, b)\n",
    "            dw = w - alpha*dw\n",
    "            db = w - alpha*db\n",
    "        cost = compute_cost(w, x, y, b)\n",
    "        if 1%10 == 0:\n",
    "            print(\"Iteration {i}: w = {w}, b = {b}, cost = {cost}\")\n",
    "        return w, b"
   ]
  },
  {
   "cell_type": "markdown",
   "metadata": {},
   "source": [
    "Gradient Descent OOP style"
   ]
  },
  {
   "cell_type": "code",
   "execution_count": null,
   "metadata": {},
   "outputs": [],
   "source": [
    "import numpy as np\n",
    "class Gradient_Descent:\n",
    "    def __init__(self):\n",
    "        pass\n",
    "    def compute_cost(w, x, y, b):\n",
    "        num = x.shape[0]\n",
    "        cost = 0\n",
    "        for i in range(num):\n",
    "            y_hat = w*x[i] + b\n",
    "            cost += y_hat - y[i]\n",
    "        return cost/2*num\n",
    "\n",
    "    def compute_gradient(w, x, y, b):\n",
    "        num = x.shape[0]\n",
    "        dw = 0\n",
    "        db = 0\n",
    "        for i in range(num):\n",
    "            dw += x[i]*(w*x[i] + b - y[i])\n",
    "            db += w*x[i] + b - y[i]\n",
    "        return dw/num, db/num\n",
    "\n",
    "    def train(w, x, y, b, alpha = 0.001):\n",
    "        for i in range(10000):\n",
    "            dw, db = compute_gradient(w, x, y, b)\n",
    "            dw = w - alpha*dw\n",
    "            db = w - alpha*db\n",
    "        cost = compute_cost(w, x, y, b)\n",
    "        if 1%10 == 0:\n",
    "            print(\"Iteration {i}: w = {w}, b = {b}, cost = {cost}\")\n",
    "        return w, b"
   ]
  }
 ],
 "metadata": {
  "language_info": {
   "name": "python"
  }
 },
 "nbformat": 4,
 "nbformat_minor": 2
}
